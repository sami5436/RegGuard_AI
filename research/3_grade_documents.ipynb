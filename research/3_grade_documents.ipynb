{
 "cells": [
  {
   "cell_type": "markdown",
   "metadata": {},
   "source": [
    "# Step 3: Grade Document Relevance\n",
    "\n",
    "This notebook tests the document grading node. After documents are retrieved, this step uses an LLM to double-check if each document is actually relevant to the user's question, filtering out any false positives from the vector search."
   ]
  },
  {
   "cell_type": "code",
   "execution_count": 1,
   "metadata": {},
   "outputs": [],
   "source": [
    "import os\n",
    "from langchain_community.llms import Ollama\n",
    "from langchain_core.documents import Document\n",
    "from langchain.prompts import PromptTemplate\n",
    "from langchain_core.output_parsers import StrOutputParser"
   ]
  },
  {
   "cell_type": "code",
   "execution_count": 2,
   "metadata": {},
   "outputs": [
    {
     "name": "stderr",
     "output_type": "stream",
     "text": [
      "/var/folders/90/p8kgtvm572d51cr90k19v_580000gn/T/ipykernel_63420/916712105.py:3: LangChainDeprecationWarning: The class `Ollama` was deprecated in LangChain 0.3.1 and will be removed in 1.0.0. An updated version of the class exists in the :class:`~langchain-ollama package and should be used instead. To use it run `pip install -U :class:`~langchain-ollama` and import as `from :class:`~langchain_ollama import OllamaLLM``.\n",
      "  llm = Ollama(model=MODEL_NAME, temperature=0)\n"
     ]
    }
   ],
   "source": [
    "# --- Configuration ---\n",
    "MODEL_NAME = \"llama3\"\n",
    "llm = Ollama(model=MODEL_NAME, temperature=0)"
   ]
  },
  {
   "cell_type": "code",
   "execution_count": 3,
   "metadata": {},
   "outputs": [],
   "source": [
    "def grade_documents(state: dict, llm) -> dict:\n",
    "    \"\"\"\n",
    "    Grades the relevance of retrieved documents.\n",
    "    This function is defined locally for experimentation.\n",
    "    \"\"\"\n",
    "    print(\"---CHECKING DOCUMENT RELEVANCE---\")\n",
    "    question = state['question']\n",
    "    documents = state['documents']\n",
    "    \n",
    "    prompt_template = \"\"\"\n",
    "    You are a grader assessing the relevance of a retrieved document to a user question about emissions.\n",
    "    Give a binary score 'yes' or 'no'. 'yes' means the document is relevant, 'no' means it's not.\n",
    "\n",
    "    Retrieved document:\n",
    "    {document_content}\n",
    "\n",
    "    User question: {question}\n",
    "\n",
    "    Grade (yes/no):\n",
    "    \"\"\"\n",
    "    prompt = PromptTemplate(template=prompt_template, input_variables=[\"question\", \"document_content\"])\n",
    "    grader_chain = prompt | llm | StrOutputParser()\n",
    "    \n",
    "    filtered_docs = []\n",
    "    for d in documents:\n",
    "        score = grader_chain.invoke({\"question\": question, \"document_content\": d.page_content})\n",
    "        grade = score.strip().lower()\n",
    "        if \"yes\" in grade:\n",
    "            print(f\"Grade is 'yes' for document: {d.metadata['source']}\")\n",
    "            filtered_docs.append(d)\n",
    "        else:\n",
    "            print(f\"Grade is 'no' for document: {d.metadata['source']}\")\n",
    "    \n",
    "    return {\"documents\": filtered_docs}"
   ]
  },
  {
   "cell_type": "code",
   "execution_count": 4,
   "metadata": {},
   "outputs": [
    {
     "name": "stdout",
     "output_type": "stream",
     "text": [
      "--- Initial Documents ---\n",
      "2 documents to be graded.\n"
     ]
    }
   ],
   "source": [
    "# --- Mock State ---\n",
    "# We will simulate the state after the 'retrieve' node has run.\n",
    "question = \"What are the record retention requirements for GHG reports?\"\n",
    "\n",
    "# This document is highly relevant\n",
    "relevant_doc = Document(\n",
    "    page_content=\"All records, including calibration data, input data for emission equations, and the final annual GHG report, must be retained for a period of at least three years from the date of submission.\",\n",
    "    metadata={\"source\": \"sample_ghg_reporting_rule.txt\"}\n",
    ")\n",
    "\n",
    "# This document is irrelevant\n",
    "irrelevant_doc = Document(\n",
    "    page_content=\"The Eiffel Tower is a wrought-iron lattice tower on the Champ de Mars in Paris, France.\",\n",
    "    metadata={\"source\": \"random_facts.txt\"}\n",
    ")\n",
    "\n",
    "initial_state = {\n",
    "    \"question\": question,\n",
    "    \"documents\": [relevant_doc, irrelevant_doc]\n",
    "}\n",
    "\n",
    "print(\"--- Initial Documents ---\")\n",
    "print(f\"{len(initial_state['documents'])} documents to be graded.\")"
   ]
  },
  {
   "cell_type": "code",
   "execution_count": 5,
   "metadata": {},
   "outputs": [
    {
     "name": "stdout",
     "output_type": "stream",
     "text": [
      "---CHECKING DOCUMENT RELEVANCE---\n",
      "Grade is 'yes' for document: sample_ghg_reporting_rule.txt\n",
      "Grade is 'no' for document: random_facts.txt\n",
      "\n",
      "--- Graded Documents ---\n",
      "1 documents were deemed relevant.\n",
      "Kept document from source: sample_ghg_reporting_rule.txt\n"
     ]
    }
   ],
   "source": [
    "result = grade_documents(initial_state, llm)\n",
    "\n",
    "print(\"\\n--- Graded Documents ---\")\n",
    "print(f\"{len(result['documents'])} documents were deemed relevant.\")\n",
    "for doc in result['documents']:\n",
    "    print(f\"Kept document from source: {doc.metadata['source']}\")"
   ]
  }
 ],
 "metadata": {
  "kernelspec": {
   "display_name": "ig-reel-env",
   "language": "python",
   "name": "python3"
  },
  "language_info": {
   "codemirror_mode": {
    "name": "ipython",
    "version": 3
   },
   "file_extension": ".py",
   "mimetype": "text/x-python",
   "name": "python",
   "nbconvert_exporter": "python",
   "pygments_lexer": "ipython3",
   "version": "3.11.13"
  }
 },
 "nbformat": 4,
 "nbformat_minor": 2
}
