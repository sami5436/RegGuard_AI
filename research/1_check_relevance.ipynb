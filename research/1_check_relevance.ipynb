{
 "cells": [
  {
   "cell_type": "markdown",
   "metadata": {},
   "source": [
    "# Step 1: Check Question Relevance\n",
    "\n",
    "This notebook tests the first node in our RAG pipeline. Its purpose is to make an initial LLM call to determine if the user's question is related to emissions. This prevents the system from performing an unnecessary document search for off-topic questions."
   ]
  },
  {
   "cell_type": "code",
   "execution_count": null,
   "metadata": {},
   "outputs": [],
   "source": [
    "import os\n",
    "from langchain_community.llms import Ollama\n",
    "from langchain.prompts import PromptTemplate\n",
    "from langchain_core.output_parsers import StrOutputParser\n",
    "\n",
    "# Add the project root to the Python path to allow for module imports\n",
    "import sys\n",
    "sys.path.append('..') \n",
    "\n",
    "# Import the node function\n",
    "from src.core.nodes.check_relevance import check_relevance"
   ]
  },
  {
   "cell_type": "code",
   "execution_count": null,
   "metadata": {},
   "outputs": [],
   "source": [
    "# --- Configuration ---\n",
    "MODEL_NAME = \"llama3\"\n",
    "llm = Ollama(model=MODEL_NAME, temperature=0)"
   ]
  },
  {
   "cell_type": "markdown",
   "metadata": {},
   "source": [
    "### Test with a Relevant Question"
   ]
  },
  {
   "cell_type": "code",
   "execution_count": null,
   "metadata": {},
   "outputs": [],
   "source": [
    "relevant_question = \"What are the monitoring requirements for flare gas?\"\n",
    "state = {\"question\": relevant_question}\n",
    "\n",
    "result = check_relevance(state, llm)\n",
    "print(result)"
   ]
  },
  {
   "cell_type": "markdown",
   "metadata": {},
   "source": [
    "### Test with an Irrelevant Question"
   ]
  },
  {
   "cell_type": "code",
   "execution_count": null,
   "metadata": {},
   "outputs": [],
   "source": [
    "irrelevant_question = \"What is the capital of France?\"\n",
    "state = {\"question\": irrelevant_question}\n",
    "\n",
    "result = check_relevance(state, llm)\n",
    "print(result)"
   ]
  }
 ],
 "metadata": {
  "kernelspec": {
   "display_name": "Python 3",
   "language": "python",
   "name": "python3"
  },
  "language_info": {
   "name": "python",
   "version": "3.11.0"
  }
 },
 "nbformat": 4,
 "nbformat_minor": 2
}
