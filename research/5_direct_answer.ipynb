{
 "cells": [
  {
   "cell_type": "markdown",
   "metadata": {},
   "source": [
    "# Step 5: Generate Direct Answer (Off-Topic)\n",
    "\n",
    "This notebook tests the alternative generation path. If the initial `check_relevance` node determines the question is off-topic, the graph routes to this node, which answers the question directly without performing a document search."
   ]
  },
  {
   "cell_type": "code",
   "execution_count": null,
   "metadata": {},
   "outputs": [],
   "source": [
    "import os\n",
    "from langchain_community.llms import Ollama\n",
    "from langchain.prompts import PromptTemplate\n",
    "from langchain_core.output_parsers import StrOutputParser"
   ]
  },
  {
   "cell_type": "code",
   "execution_count": null,
   "metadata": {},
   "outputs": [],
   "source": [
    "# --- Configuration ---\n",
    "MODEL_NAME = \"llama3\"\n",
    "llm = Ollama(model=MODEL_NAME, temperature=0)"
   ]
  },
  {
   "cell_type": "code",
   "execution_count": null,
   "metadata": {},
   "outputs": [],
   "source": [
    "def generate_direct_answer(state: dict, llm) -> dict:\n",
    "    \"\"\"\n",
    "    Generates a direct answer when the question is not relevant to the documents.\n",
    "    This function is defined locally for experimentation.\n",
    "    \"\"\"\n",
    "    print(\"---GENERATING DIRECT ANSWER---\")\n",
    "    question = state['question']\n",
    "    \n",
    "    prompt_template = \"\"\"\n",
    "    You are a helpful assistant. A user has asked a question that is not related to the provided regulatory documents.\n",
    "    Provide a direct answer to their question, prefaced with the following disclaimer:\n",
    "    \"This question does not seem to be about emissions compliance, but here is an answer:\"\n",
    "\n",
    "    User Question: {question}\n",
    "\n",
    "    Answer:\n",
    "    \"\"\"\n",
    "    prompt = PromptTemplate(template=prompt_template, input_variables=[\"question\"])\n",
    "    direct_chain = prompt | llm | StrOutputParser()\n",
    "    generation = direct_chain.invoke({\"question\": question})\n",
    "    return {\"generation\": generation, \"documents\": []}"
   ]
  },
  {
   "cell_type": "code",
   "execution_count": null,
   "metadata": {},
   "outputs": [],
   "source": [
    "# --- Mock State ---\n",
    "# We will simulate the state for an irrelevant question.\n",
    "question = \"Who wrote the play Hamlet?\"\n",
    "\n",
    "state = {\n",
    "    \"question\": question,\n",
    "    \"is_relevant\": False\n",
    "}\n"
   ]
  },
  {
   "cell_type": "code",
   "execution_count": null,
   "metadata": {},
   "outputs": [],
   "source": [
    "result = generate_direct_answer(state, llm)\n",
    "\n",
    "print(\"--- Generated Direct Answer ---\")\n",
    "print(result['generation'])"
   ]
  }
 ],
 "metadata": {
  "kernelspec": {
   "display_name": "Python 3",
   "language": "python",
   "name": "python3"
  },
  "language_info": {
   "name": "python",
   "version": "3.11.0"
  }
 },
 "nbformat": 4,
 "nbformat_minor": 2
}
