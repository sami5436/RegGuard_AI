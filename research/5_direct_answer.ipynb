{
 "cells": [
  {
   "cell_type": "markdown",
   "metadata": {},
   "source": [
    "# Step 5: Generate Direct Answer (Off-Topic)\n",
    "\n",
    "This notebook tests the alternative generation path. If the initial `check_relevance` node determines the question is off-topic, the graph routes to this node, which answers the question directly without performing a document search."
   ]
  },
  {
   "cell_type": "code",
   "execution_count": 1,
   "metadata": {},
   "outputs": [],
   "source": [
    "import os\n",
    "from langchain_community.llms import Ollama\n",
    "from langchain.prompts import PromptTemplate\n",
    "from langchain_core.output_parsers import StrOutputParser"
   ]
  },
  {
   "cell_type": "code",
   "execution_count": 2,
   "metadata": {},
   "outputs": [
    {
     "name": "stderr",
     "output_type": "stream",
     "text": [
      "/var/folders/90/p8kgtvm572d51cr90k19v_580000gn/T/ipykernel_64374/916712105.py:3: LangChainDeprecationWarning: The class `Ollama` was deprecated in LangChain 0.3.1 and will be removed in 1.0.0. An updated version of the class exists in the :class:`~langchain-ollama package and should be used instead. To use it run `pip install -U :class:`~langchain-ollama` and import as `from :class:`~langchain_ollama import OllamaLLM``.\n",
      "  llm = Ollama(model=MODEL_NAME, temperature=0)\n"
     ]
    }
   ],
   "source": [
    "# --- Configuration ---\n",
    "MODEL_NAME = \"llama3\"\n",
    "llm = Ollama(model=MODEL_NAME, temperature=0)"
   ]
  },
  {
   "cell_type": "code",
   "execution_count": 3,
   "metadata": {},
   "outputs": [],
   "source": [
    "def generate_direct_answer(state: dict, llm) -> dict:\n",
    "    \"\"\"\n",
    "    Generates a direct answer when the question is not relevant to the documents.\n",
    "    This function is defined locally for experimentation.\n",
    "    \"\"\"\n",
    "    print(\"---GENERATING DIRECT ANSWER---\")\n",
    "    question = state['question']\n",
    "    \n",
    "    prompt_template = \"\"\"\n",
    "    You are a helpful assistant. A user has asked a question that is not related to the provided regulatory documents.\n",
    "    Provide a direct answer to their question, prefaced with the following disclaimer:\n",
    "    \"This question does not seem to be about emissions compliance, but here is an answer:\"\n",
    "\n",
    "    User Question: {question}\n",
    "\n",
    "    Answer:\n",
    "    \"\"\"\n",
    "    prompt = PromptTemplate(template=prompt_template, input_variables=[\"question\"])\n",
    "    direct_chain = prompt | llm | StrOutputParser()\n",
    "    generation = direct_chain.invoke({\"question\": question})\n",
    "    return {\"generation\": generation, \"documents\": []}"
   ]
  },
  {
   "cell_type": "code",
   "execution_count": 4,
   "metadata": {},
   "outputs": [],
   "source": [
    "# --- Mock State ---\n",
    "# We will simulate the state for an irrelevant question.\n",
    "question = \"Who wrote the play Hamlet?\"\n",
    "\n",
    "state = {\n",
    "    \"question\": question,\n",
    "    \"is_relevant\": False\n",
    "}\n"
   ]
  },
  {
   "cell_type": "code",
   "execution_count": 5,
   "metadata": {},
   "outputs": [
    {
     "name": "stdout",
     "output_type": "stream",
     "text": [
      "---GENERATING DIRECT ANSWER---\n",
      "--- Generated Direct Answer ---\n",
      "This question does not seem to be about emissions compliance, but here is an answer:\n",
      "\n",
      "The play Hamlet was written by William Shakespeare. It is one of his most famous tragedies and tells the story of Prince Hamlet's quest for justice and truth after his father's murder. The exact date of its composition is unknown, but it is believed to have been written between 1599 and 1602.\n"
     ]
    }
   ],
   "source": [
    "result = generate_direct_answer(state, llm)\n",
    "\n",
    "print(\"--- Generated Direct Answer ---\")\n",
    "print(result['generation'])"
   ]
  }
 ],
 "metadata": {
  "kernelspec": {
   "display_name": "ig-reel-env",
   "language": "python",
   "name": "python3"
  },
  "language_info": {
   "codemirror_mode": {
    "name": "ipython",
    "version": 3
   },
   "file_extension": ".py",
   "mimetype": "text/x-python",
   "name": "python",
   "nbconvert_exporter": "python",
   "pygments_lexer": "ipython3",
   "version": "3.11.13"
  }
 },
 "nbformat": 4,
 "nbformat_minor": 2
}
