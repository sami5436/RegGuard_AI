{
 "cells": [
  {
   "cell_type": "markdown",
   "metadata": {},
   "source": [
    "# Step 2: Retrieve Documents\n",
    "\n",
    "This notebook tests the document retrieval node. It loads a pre-built vector store and uses it to find document chunks that are semantically similar to a user's question."
   ]
  },
  {
   "cell_type": "code",
   "execution_count": 1,
   "metadata": {},
   "outputs": [],
   "source": [
    "import os\n",
    "from langchain_community.embeddings import OllamaEmbeddings\n",
    "from langchain_community.vectorstores import FAISS\n",
    "\n",
    "# Add the project root to the Python path\n",
    "import sys\n",
    "sys.path.append('..')"
   ]
  },
  {
   "cell_type": "markdown",
   "metadata": {},
   "source": [
    "**Important:** Before running this notebook, you must first run the main Streamlit app (`streamlit run main.py`) and click the **\"Build Vector Store\"** button to create the `vector_store` index."
   ]
  },
  {
   "cell_type": "code",
   "execution_count": 2,
   "metadata": {},
   "outputs": [
    {
     "name": "stdout",
     "output_type": "stream",
     "text": [
      "Loading vector store from ../vector_store...\n",
      "Retriever is ready.\n"
     ]
    },
    {
     "name": "stderr",
     "output_type": "stream",
     "text": [
      "/var/folders/90/p8kgtvm572d51cr90k19v_580000gn/T/ipykernel_62714/821081663.py:5: LangChainDeprecationWarning: The class `OllamaEmbeddings` was deprecated in LangChain 0.3.1 and will be removed in 1.0.0. An updated version of the class exists in the :class:`~langchain-ollama package and should be used instead. To use it run `pip install -U :class:`~langchain-ollama` and import as `from :class:`~langchain_ollama import OllamaEmbeddings``.\n",
      "  embeddings = OllamaEmbeddings(model=MODEL_NAME)\n"
     ]
    }
   ],
   "source": [
    "# --- Configuration ---\n",
    "MODEL_NAME = \"llama3\"\n",
    "VECTOR_STORE_PATH = \"../vector_store\"\n",
    "\n",
    "embeddings = OllamaEmbeddings(model=MODEL_NAME)\n",
    "\n",
    "# --- Load Vector Store Directly ---\n",
    "faiss_path = os.path.join(VECTOR_STORE_PATH, \"index.faiss\")\n",
    "pkl_path = os.path.join(VECTOR_STORE_PATH, \"index.pkl\")\n",
    "\n",
    "if os.path.exists(faiss_path) and os.path.exists(pkl_path) and os.path.getsize(faiss_path) > 0:\n",
    "    print(f\"Loading vector store from {VECTOR_STORE_PATH}...\")\n",
    "    vector_store = FAISS.load_local(\n",
    "        VECTOR_STORE_PATH, \n",
    "        embeddings, \n",
    "        allow_dangerous_deserialization=True\n",
    "    )\n",
    "    retriever = vector_store.as_retriever()\n",
    "    print(\"Retriever is ready.\")\n",
    "else:\n",
    "    raise FileNotFoundError(\n",
    "        f\"Vector store not found or is corrupted at '{VECTOR_STORE_PATH}'. \"\n",
    "        \"Please run the main app and click 'Build Vector Store' first.\"\n",
    "    )"
   ]
  },
  {
   "cell_type": "code",
   "execution_count": 3,
   "metadata": {},
   "outputs": [],
   "source": [
    "def retrieve_documents(state: dict, retriever) -> dict:\n",
    "    \"\"\"\n",
    "    Retrieves documents from the vector store.\n",
    "    This function is defined locally for experimentation.\n",
    "    \"\"\"\n",
    "    print(\"---RETRIEVING DOCUMENTS---\")\n",
    "    question = state['question']\n",
    "    documents = retriever.invoke(question)\n",
    "    return {\"documents\": documents}"
   ]
  },
  {
   "cell_type": "code",
   "execution_count": 4,
   "metadata": {},
   "outputs": [
    {
     "name": "stdout",
     "output_type": "stream",
     "text": [
      "---RETRIEVING DOCUMENTS---\n",
      "Found 4 relevant documents:\n",
      "--- Document 1 ---\n",
      "Source: documents/ghg-emission-factors-hub-2025.pdf\n",
      "All CO 2 emission factors assume that 100 percent of the carbon content of the fuel is oxidized to CO 2, as is recommended by the Intergovernmental Panel on Climate Change (IPCC). \n",
      "The CH 4 and N 2O emission factors provided represent emissions in terms of fuel type and by end-use sector (i.e., residential, commercial, industrial, electricity generation).\n",
      "Please see the Center for Corporate Climate Leadership's guidance document on Direct Emissions from Stationary Combustion Sources for guidance on how to include biomass fuels in an organization's greenhouse gas inventory.\n",
      "https://www.epa.gov/sites/default/files/2020-12/documents/stationaryemissions.pdf\n",
      "The factors represented in the table above represent combustion emissions only and do not represent upstream emissions.Emission Factors for Greenhouse Gas Inventories\n",
      "\n",
      "--- Document 2 ---\n",
      "Source: documents/ghg-emission-factors-hub-2025.pdf\n",
      "NWPP WECC Northwest 631.7                              0.054                               0.008                               1,613.4                             0.146                               0.021                  4.1%\n",
      "NYCW NPCC NYC/Westchester 974.7                              0.025                               0.003                               1,008.9                             0.020                               0.002                  4.2%\n",
      "NYLI NPCC Long Island 1,180.7                           0.140                               0.018                               1,316.6                             0.050                               0.006                  4.2%\n",
      "NYUP NPCC Upstate NY 241.0                              0.011                               0.001                               909.1                               0.041                               0.005                  4.2%\n",
      "\n",
      "--- Document 3 ---\n",
      "Source: documents/ghg-emission-factors-hub-2025.pdf\n",
      "For technical information, reference the EPA's eGRID Technical Guide\n",
      "https://www.epa.gov/system/files/documents/2025-01/egrid2023_technical_guide.pdf\n",
      "The factors represented in the table above represent combustion emissions only (tank-to-wheel) and do not represent upstream emissions or well-to-wheel emissions.Passenger Cars\n",
      "Light-Duty TrucksDiesel\n",
      "Diesel\n",
      "Medium- and Heavy-Duty Vehicles\n",
      "Notes : \n",
      "The factors represented in the table above represent combustion emissions only (tank-to-wheel) and do not represent upstream emissions or well-to-wheel emissions.Diesel\n",
      "Light-Duty Cars\n",
      "Light-Duty Trucks\n",
      "Medium-Duty Trucks\n",
      "Heavy-Duty Trucks\n",
      "Buses\n",
      "Non-Baseload Emission Factors\n",
      "Notes:\n",
      "Total output emission factors can be used as default factors for estimating GHG emissions from electricity use when developing a carbon footprint or emissions inventory. Ships and Boats\n",
      "Aircraft\n",
      "Notes:\n",
      "\n",
      "--- Document 4 ---\n",
      "Source: documents/ghg-emission-factors-hub-2025.pdf\n",
      "SRMW SERC Midwest 1,238.3                           0.132                               0.019                               1,818.6                             0.190                               0.027                  4.2%\n",
      "SRSO SERC South 840.9                              0.055                               0.008                               1,386.0                             0.096                               0.014                  4.2%\n",
      "SRTV SERC Tennessee Valley 895.7                              0.079                               0.011                               1,665.8                             0.154                               0.022                  4.2%\n",
      "SRVC SERC Virginia/Carolina 590.2                              0.045                               0.006                               1,286.8                             0.100                               0.014                  4.2%\n",
      "\n"
     ]
    }
   ],
   "source": [
    "question = \"What are the requirements for CEMS data quality?\"\n",
    "state = {\"question\": question}\n",
    "\n",
    "result = retrieve_documents(state, retriever)\n",
    "\n",
    "print(f\"Found {len(result['documents'])} relevant documents:\")\n",
    "for i, doc in enumerate(result['documents']):\n",
    "    print(f\"--- Document {i+1} ---\")\n",
    "    print(f\"Source: {doc.metadata.get('source')}\")\n",
    "    print(doc.page_content)\n",
    "    print()"
   ]
  }
 ],
 "metadata": {
  "kernelspec": {
   "display_name": "ig-reel-env",
   "language": "python",
   "name": "python3"
  },
  "language_info": {
   "codemirror_mode": {
    "name": "ipython",
    "version": 3
   },
   "file_extension": ".py",
   "mimetype": "text/x-python",
   "name": "python",
   "nbconvert_exporter": "python",
   "pygments_lexer": "ipython3",
   "version": "3.11.13"
  }
 },
 "nbformat": 4,
 "nbformat_minor": 2
}
