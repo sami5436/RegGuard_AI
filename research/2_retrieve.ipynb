{
 "cells": [
  {
   "cell_type": "markdown",
   "metadata": {},
   "source": [
    "# Step 2: Retrieve Documents\n",
    "\n",
    "This notebook tests the document retrieval node. It loads a pre-built vector store and uses it to find document chunks that are semantically similar to a user's question."
   ]
  },
  {
   "cell_type": "code",
   "execution_count": null,
   "metadata": {},
   "outputs": [],
   "source": [
    "import os\n",
    "from langchain_community.embeddings import OllamaEmbeddings\n",
    "from langchain_community.vectorstores import FAISS\n",
    "\n",
    "# Add the project root to the Python path\n",
    "import sys\n",
    "sys.path.append('..')"
   ]
  },
  {
   "cell_type": "markdown",
   "metadata": {},
   "source": [
    "**Important:** Before running this notebook, you must first run the main Streamlit app (`streamlit run main.py`) and click the **\"Build Vector Store\"** button to create the `vector_store` index."
   ]
  },
  {
   "cell_type": "code",
   "execution_count": null,
   "metadata": {},
   "outputs": [],
   "source": [
    "# --- Configuration ---\n",
    "MODEL_NAME = \"llama3\"\n",
    "VECTOR_STORE_PATH = \"../vector_store\"\n",
    "\n",
    "embeddings = OllamaEmbeddings(model=MODEL_NAME)\n",
    "\n",
    "# --- Load Vector Store Directly ---\n",
    "faiss_path = os.path.join(VECTOR_STORE_PATH, \"index.faiss\")\n",
    "pkl_path = os.path.join(VECTOR_STORE_PATH, \"index.pkl\")\n",
    "\n",
    "if os.path.exists(faiss_path) and os.path.exists(pkl_path) and os.path.getsize(faiss_path) > 0:\n",
    "    print(f\"Loading vector store from {VECTOR_STORE_PATH}...\")\n",
    "    vector_store = FAISS.load_local(\n",
    "        VECTOR_STORE_PATH, \n",
    "        embeddings, \n",
    "        allow_dangerous_deserialization=True\n",
    "    )\n",
    "    retriever = vector_store.as_retriever()\n",
    "    print(\"Retriever is ready.\")\n",
    "else:\n",
    "    raise FileNotFoundError(\n",
    "        f\"Vector store not found or is corrupted at '{VECTOR_STORE_PATH}'. \"\n",
    "        \"Please run the main app and click 'Build Vector Store' first.\"\n",
    "    )"
   ]
  },
  {
   "cell_type": "code",
   "execution_count": null,
   "metadata": {},
   "outputs": [],
   "source": [
    "def retrieve_documents(state: dict, retriever) -> dict:\n",
    "    \"\"\"\n",
    "    Retrieves documents from the vector store.\n",
    "    This function is defined locally for experimentation.\n",
    "    \"\"\"\n",
    "    print(\"---RETRIEVING DOCUMENTS---\")\n",
    "    question = state['question']\n",
    "    documents = retriever.invoke(question)\n",
    "    return {\"documents\": documents}"
   ]
  },
  {
   "cell_type": "code",
   "execution_count": null,
   "metadata": {},
   "outputs": [],
   "source": [
    "question = \"What are the requirements for CEMS data quality?\"\n",
    "state = {\"question\": question}\n",
    "\n",
    "result = retrieve_documents(state, retriever)\n",
    "\n",
    "print(f\"Found {len(result['documents'])} relevant documents:\")\n",
    "for i, doc in enumerate(result['documents']):\n",
    "    print(f\"--- Document {i+1} ---\")\n",
    "    print(f\"Source: {doc.metadata.get('source')}\")\n",
    "    print(doc.page_content)\n",
    "    print()"
   ]
  }
 ],
 "metadata": {
  "kernelspec": {
   "display_name": "Python 3",
   "language": "python",
   "name": "python3"
  },
  "language_info": {
   "name": "python",
   "version": "3.11.0"
  }
 },
 "nbformat": 4,
 "nbformat_minor": 2
}
