{
 "cells": [
  {
   "cell_type": "markdown",
   "metadata": {},
   "source": [
    "# Step 2: Retrieve Documents\n",
    "\n",
    "This notebook tests the document retrieval node. It loads a pre-built vector store and uses it to find document chunks that are semantically similar to a user's question."
   ]
  },
  {
   "cell_type": "code",
   "execution_count": null,
   "metadata": {},
   "outputs": [],
   "source": [
    "import os\n",
    "from langchain_community.embeddings import OllamaEmbeddings\n",
    "\n",
    "# Add the project root to the Python path\n",
    "import sys\n",
    "sys.path.append('..')\n",
    "\n",
    "from src.utils.vector_store_manager import VectorStoreManager"
   ]
  },
  {
   "cell_type": "markdown",
   "metadata": {},
   "source": [
    "**Important:** Before running this notebook, you must first run the main Streamlit app (`streamlit run main.py`) and click the **\"Build Vector Store\"** button to create the `vector_store` index."
   ]
  },
  {
   "cell_type": "code",
   "execution_count": null,
   "metadata": {},
   "outputs": [],
   "source": [
    "# --- Configuration ---\n",
    "MODEL_NAME = \"llama3\"\n",
    "DOCS_PATH = \"../documents\"\n",
    "VECTOR_STORE_PATH = \"../vector_store\"\n",
    "\n",
    "embeddings = OllamaEmbeddings(model=MODEL_NAME)\n",
    "\n",
    "# Initialize the manager and get the retriever\n",
    "manager = VectorStoreManager(DOCS_PATH, VECTOR_STORE_PATH, embeddings)\n",
    "retriever = manager.get_retriever()"
   ]
  },
  {
   "cell_type": "code",
   "execution_count": null,
   "metadata": {},
   "outputs": [],
   "source": [
    "def retrieve_documents(state: dict, retriever) -> dict:\n",
    "    \"\"\"\n",
    "    Retrieves documents from the vector store.\n",
    "    This function is defined locally for experimentation.\n",
    "    \"\"\"\n",
    "    print(\"---RETRIEVING DOCUMENTS---\")\n",
    "    question = state['question']\n",
    "    documents = retriever.invoke(question)\n",
    "    return {\"documents\": documents}"
   ]
  },
  {
   "cell_type": "code",
   "execution_count": null,
   "metadata": {},
   "outputs": [],
   "source": [
    "question = \"What are the requirements for CEMS data quality?\"\n",
    "state = {\"question\": question}\n",
    "\n",
    "result = retrieve_documents(state, retriever)\n",
    "\n",
    "print(f\"Found {len(result['documents'])} relevant documents:\")\n",
    "for i, doc in enumerate(result['documents']):\n",
    "    print(f\"--- Document {i+1} ---\")\n",
    "    print(f\"Source: {doc.metadata.get('source')}\")\n",
    "    print(doc.page_content)\n",
    "    print()"
   ]
  }
 ],
 "metadata": {
  "kernelspec": {
   "display_name": "Python 3",
   "language": "python",
   "name": "python3"
  },
  "language_info": {
   "name": "python",
   "version": "3.11.0"
  }
 },
 "nbformat": 4,
 "nbformat_minor": 2
}
